{
 "cells": [
  {
   "cell_type": "code",
   "execution_count": 5,
   "metadata": {
    "collapsed": true
   },
   "outputs": [],
   "source": [
    "l = [1,2,0,0]\n",
    "from itertools import combinations"
   ]
  },
  {
   "cell_type": "code",
   "execution_count": 8,
   "metadata": {
    "collapsed": false
   },
   "outputs": [],
   "source": [
    "for subset in itertools.combinations(l, 5):\n",
    "    print subset"
   ]
  },
  {
   "cell_type": "code",
   "execution_count": 42,
   "metadata": {
    "collapsed": false
   },
   "outputs": [],
   "source": [
    "dict = {'[1, 2, 3]':[1,2,3]}"
   ]
  },
  {
   "cell_type": "code",
   "execution_count": 43,
   "metadata": {
    "collapsed": false
   },
   "outputs": [
    {
     "data": {
      "text/plain": [
       "{'[1, 2, 3]': [1, 2, 3]}"
      ]
     },
     "execution_count": 43,
     "metadata": {},
     "output_type": "execute_result"
    }
   ],
   "source": [
    "dict"
   ]
  },
  {
   "cell_type": "code",
   "execution_count": 44,
   "metadata": {
    "collapsed": false
   },
   "outputs": [],
   "source": [
    "state = [1,2,3]\n",
    "#dict[str(state)]"
   ]
  },
  {
   "cell_type": "code",
   "execution_count": 45,
   "metadata": {
    "collapsed": false
   },
   "outputs": [
    {
     "data": {
      "text/plain": [
       "'[1, 2, 3]'"
      ]
     },
     "execution_count": 45,
     "metadata": {},
     "output_type": "execute_result"
    }
   ],
   "source": [
    "dict[str(state)]\n",
    "str(state)"
   ]
  },
  {
   "cell_type": "code",
   "execution_count": 58,
   "metadata": {
    "collapsed": false
   },
   "outputs": [
    {
     "name": "stdout",
     "output_type": "stream",
     "text": [
      "[1, 2, 3]\n",
      "[1, 2, 3]\n"
     ]
    }
   ],
   "source": [
    "for k,v in dict.items():\n",
    "    print k\n",
    "    print v\n",
    "import pandas as pd\n"
   ]
  },
  {
   "cell_type": "markdown",
   "metadata": {},
   "source": [
    "## Tic tac toe code"
   ]
  },
  {
   "cell_type": "code",
   "execution_count": 442,
   "metadata": {
    "collapsed": false
   },
   "outputs": [
    {
     "data": {
      "text/plain": [
       "(0, 0, 0, 0, 0, 0, 0, 0, 0)"
      ]
     },
     "execution_count": 442,
     "metadata": {},
     "output_type": "execute_result"
    }
   ],
   "source": [
    "\n",
    "import itertools\n",
    "def expand_grid(*itrs):\n",
    "    product = list(itertools.product(*itrs))\n",
    "    return product\n",
    "    #return {'Var{}'.format(i+1):[x[i] for x in product] for i in range(len(itrs))}\n",
    "a = [0,1,2]\n",
    "states = expand_grid(a,a,a,a,a,a,a,a,a)\n",
    "len(states)\n",
    "states[0]"
   ]
  },
  {
   "cell_type": "code",
   "execution_count": 443,
   "metadata": {
    "collapsed": false
   },
   "outputs": [],
   "source": [
    "#Creating state value pair\n",
    "states_val = {}\n",
    "for each in range(len(states)):\n",
    "    states_val[str(list(states[each]))]=0.5"
   ]
  },
  {
   "cell_type": "code",
   "execution_count": 444,
   "metadata": {
    "collapsed": false
   },
   "outputs": [
    {
     "data": {
      "text/plain": [
       "0.5"
      ]
     },
     "execution_count": 444,
     "metadata": {},
     "output_type": "execute_result"
    }
   ],
   "source": [
    "curr_state =[0,0,0,0,0,0,0,0,0]\n",
    "states_val[str(curr_state)]"
   ]
  },
  {
   "cell_type": "code",
   "execution_count": 445,
   "metadata": {
    "collapsed": false
   },
   "outputs": [],
   "source": [
    "#Winning rules\n",
    "def check_win_status(state, player):\n",
    "    \n",
    "    #Horizontal win\n",
    "    if((state[0] == state[1] == state[2] == player) | (state[3] == state[4] == state[5] == player) |\n",
    "      (state[6] == state[7] == state[8] == player)):\n",
    "        return 1\n",
    "    #Vertical win\n",
    "    elif((state[0] == state[3] == state[6] == player) | (state[1] == state[4] == state[7] == player) |\n",
    "      (state[2] == state[5] == state[8] == player)):\n",
    "        return 1\n",
    "    #Diagonal win\n",
    "    elif((state[0] == state[4] == state[8] == player) | (state[0] == state[4] == state[8] == player)):\n",
    "        return 1\n",
    "    #Draw\n",
    "    elif(all([x != 0 for x in state])):\n",
    "        return 0\n",
    "    else:\n",
    "        return 0.5"
   ]
  },
  {
   "cell_type": "code",
   "execution_count": 446,
   "metadata": {
    "collapsed": false
   },
   "outputs": [],
   "source": [
    "def str_to_list(str_val):\n",
    "    list_out = []\n",
    "    for each in list(str(str_val)):\n",
    "        if(each in ['1','2','0']):\n",
    "            list_out.append(int(each))\n",
    "\n",
    "    return list_out"
   ]
  },
  {
   "cell_type": "code",
   "execution_count": 447,
   "metadata": {
    "collapsed": false
   },
   "outputs": [],
   "source": [
    "#Value update\n",
    "def state_value_update(curr_state, next_state):\n",
    "    global states_val\n",
    "    states_val[curr_state] =  states_val[curr_state] + alpha * (states_val[next_state] - states_val[curr_state])"
   ]
  },
  {
   "cell_type": "code",
   "execution_count": 448,
   "metadata": {
    "collapsed": true
   },
   "outputs": [],
   "source": [
    "## Bandit state selection\n",
    "def bandit_state_selection(state, player):\n",
    "    available_position = [i for i,x in enumerate(state) if x == 0]\n",
    "    temp_state_val = {}\n",
    "    #print available_position\n",
    "    #print state\n",
    "    for each in available_position:\n",
    "        temp_state = state\n",
    "        temp_state[each] = player\n",
    "        temp_val = states_val[str(temp_state)]\n",
    "        temp_state_val[str(temp_state)] = temp_val\n",
    "        temp_state[each] = 0\n",
    "        \n",
    "    #Returns the first state value if there are more than one same state value\n",
    "    #print temp_state_val\n",
    "    next_state = max(temp_state_val, key = temp_state_val.get)\n",
    "    #return next_state\n",
    "    out =  str_to_list(next_state)\n",
    "    return out"
   ]
  },
  {
   "cell_type": "code",
   "execution_count": 449,
   "metadata": {
    "collapsed": true
   },
   "outputs": [],
   "source": [
    "def available_pos(state):\n",
    "    available_position = [i for i,x in enumerate(state) if x == 0]\n",
    "    return available_position\n",
    "    "
   ]
  },
  {
   "cell_type": "code",
   "execution_count": null,
   "metadata": {
    "collapsed": false
   },
   "outputs": [],
   "source": [
    "######## Computer as player 1\n",
    "####### Computer as player 2\n",
    "from random import randint\n",
    "alpha = 0.005\n",
    "play_count = 1000\n",
    "epsilon = 0.5\n",
    "\n",
    "for i in range(0,50000):\n",
    "    game_state = [0,0,0,0,0,0,0,0,0]\n",
    "    print (\"game \",i)\n",
    "    while(True):\n",
    "        \n",
    "        #print game_state\n",
    "        game_state_temp = game_state\n",
    "        #Player 1\n",
    "        if(epsilon > randint(0,100)/100.0):\n",
    "            position = available_pos(game_state)\n",
    "            random_select = random.choice(position)\n",
    "            #print random_select\n",
    "            game_state[random_select] = 1\n",
    "        else:\n",
    "\n",
    "            game_state = bandit_state_selection(game_state,1)\n",
    "\n",
    "        state_value_update(str(game_state_temp), str(game_state))\n",
    "\n",
    "        won_stat = check_win_status(game_state,1)\n",
    "        if( won_stat == 1):\n",
    "            #states_val[str(game_state)] = states_val[str(game_state)] + 1 \n",
    "            states_val[str(game_state)] = 1\n",
    "            print \"1 Won\"\n",
    "            break\n",
    "        elif(won_stat == 0):\n",
    "            print \"draw\"\n",
    "            #states_val[str(game_state)] = states_val[str(game_state)] - 1\n",
    "            states_val[str(game_state)] = 0\n",
    "            break\n",
    "\n",
    "\n",
    "        #print(game_state)\n",
    "        #print(check_win_status(game_state,1))\n",
    "        #Player 2\n",
    "        if(epsilon > randint(0,100)/100.0):\n",
    "            position = available_pos(game_state)\n",
    "            random_select = random.choice(position)\n",
    "            game_state[random_select] = 2\n",
    "        else:\n",
    "\n",
    "            game_state = bandit_state_selection(game_state,2)\n",
    "\n",
    "        state_value_update(str(game_state_temp), str(game_state))\n",
    "\n",
    "        won_stat = check_win_status(game_state,2)\n",
    "        if(check_win_status(game_state,2) == 1):\n",
    "            #states_val[str(game_state)] = states_val[str(game_state)] + 1 \n",
    "            states_val[str(game_state)] = 1\n",
    "            print \"2 Won\"\n",
    "            break\n",
    "        elif(won_stat == 0):\n",
    "            print \"draw\"\n",
    "            #states_val[str(game_state)] = states_val[str(game_state)] - 1\n",
    "            states_val[str(game_state)] = 0\n",
    "            break\n",
    "\n",
    "\n",
    "\n",
    "\n",
    "\n"
   ]
  },
  {
   "cell_type": "markdown",
   "metadata": {},
   "source": [
    "####### End of code\n",
    "\n",
    "#### Following are tests to check the value of states"
   ]
  },
  {
   "cell_type": "code",
   "execution_count": null,
   "metadata": {
    "collapsed": false
   },
   "outputs": [],
   "source": [
    "s = [2,1,2,0,1,0,0,1,0]\n",
    "states_val[str(s)]\n",
    "for k,v in states_val.items():\n",
    "    if (v > 0.8):\n",
    "        print k\n",
    "        print v"
   ]
  },
  {
   "cell_type": "code",
   "execution_count": 482,
   "metadata": {
    "collapsed": false
   },
   "outputs": [
    {
     "data": {
      "text/plain": [
       "1"
      ]
     },
     "execution_count": 482,
     "metadata": {},
     "output_type": "execute_result"
    }
   ],
   "source": [
    "s = [2,2,2,0,1,0,1,0,1]\n",
    "states_val[str(s)]"
   ]
  },
  {
   "cell_type": "code",
   "execution_count": 441,
   "metadata": {
    "collapsed": false
   },
   "outputs": [
    {
     "data": {
      "text/plain": [
       "4152.5"
      ]
     },
     "execution_count": 441,
     "metadata": {},
     "output_type": "execute_result"
    }
   ],
   "source": [
    "max(states_val.values())"
   ]
  },
  {
   "cell_type": "code",
   "execution_count": 422,
   "metadata": {
    "collapsed": false
   },
   "outputs": [
    {
     "data": {
      "text/plain": [
       "'[0, 0, 0, 0, 0, 1, 0, 0, 1]'"
      ]
     },
     "execution_count": 422,
     "metadata": {},
     "output_type": "execute_result"
    }
   ],
   "source": [
    "max(temp_state_val, key = temp_state_val.get)"
   ]
  },
  {
   "cell_type": "code",
   "execution_count": 396,
   "metadata": {
    "collapsed": false
   },
   "outputs": [
    {
     "name": "stdout",
     "output_type": "stream",
     "text": [
      "0\n",
      "0\n",
      "0\n",
      "0\n",
      "0\n",
      "1\n",
      "0\n",
      "0\n",
      "1\n"
     ]
    },
    {
     "data": {
      "text/plain": [
       "[0, 0, 0, 0, 0, 1, 0, 0, 1]"
      ]
     },
     "execution_count": 396,
     "metadata": {},
     "output_type": "execute_result"
    }
   ],
   "source": [
    "list_out = []\n",
    "for each in list(str(str_val)):\n",
    "        if(each in ['1','2','0']):\n",
    "            print each\n",
    "            list_out.append(int(each))\n",
    "            \n",
    "list_out            "
   ]
  },
  {
   "cell_type": "code",
   "execution_count": 320,
   "metadata": {
    "collapsed": false
   },
   "outputs": [
    {
     "data": {
      "text/plain": [
       "True"
      ]
     },
     "execution_count": 320,
     "metadata": {},
     "output_type": "execute_result"
    }
   ],
   "source": [
    "state[6] == state[7] == state[8] == player"
   ]
  },
  {
   "cell_type": "code",
   "execution_count": null,
   "metadata": {
    "collapsed": true
   },
   "outputs": [],
   "source": []
  }
 ],
 "metadata": {
  "kernelspec": {
   "display_name": "Python 2",
   "language": "python",
   "name": "python2"
  },
  "language_info": {
   "codemirror_mode": {
    "name": "ipython",
    "version": 2
   },
   "file_extension": ".py",
   "mimetype": "text/x-python",
   "name": "python",
   "nbconvert_exporter": "python",
   "pygments_lexer": "ipython2",
   "version": "2.7.13"
  }
 },
 "nbformat": 4,
 "nbformat_minor": 2
}
